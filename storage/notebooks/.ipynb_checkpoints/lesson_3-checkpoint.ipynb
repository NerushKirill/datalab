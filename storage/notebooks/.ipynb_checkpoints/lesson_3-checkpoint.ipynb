{
 "cells": [
  {
   "cell_type": "code",
   "execution_count": 1,
   "id": "043fa3ba-b9b2-4c55-8ec0-fe4dd46363e6",
   "metadata": {},
   "outputs": [],
   "source": [
    "import os\n",
    "\n",
    "from pyspark import SparkContext"
   ]
  },
  {
   "cell_type": "code",
   "execution_count": 2,
   "id": "5c02df88-3512-4599-8fd5-088da1de2a12",
   "metadata": {},
   "outputs": [],
   "source": [
    "sc = SparkContext('local[*]')"
   ]
  },
  {
   "cell_type": "code",
   "execution_count": 3,
   "id": "99623e60-3182-4d83-9ebe-3314d021d9fa",
   "metadata": {},
   "outputs": [
    {
     "data": {
      "text/html": [
       "\n",
       "        <div>\n",
       "            <p><b>SparkContext</b></p>\n",
       "\n",
       "            <p><a href=\"http://23595dd85e23:4040\">Spark UI</a></p>\n",
       "\n",
       "            <dl>\n",
       "              <dt>Version</dt>\n",
       "                <dd><code>v3.5.0</code></dd>\n",
       "              <dt>Master</dt>\n",
       "                <dd><code>local[*]</code></dd>\n",
       "              <dt>AppName</dt>\n",
       "                <dd><code>pyspark-shell</code></dd>\n",
       "            </dl>\n",
       "        </div>\n",
       "        "
      ],
      "text/plain": [
       "<SparkContext master=local[*] appName=pyspark-shell>"
      ]
     },
     "execution_count": 3,
     "metadata": {},
     "output_type": "execute_result"
    }
   ],
   "source": [
    "sc"
   ]
  },
  {
   "cell_type": "code",
   "execution_count": 4,
   "id": "0f4d12ec-bfa8-45c0-9da4-1b343b1e1728",
   "metadata": {},
   "outputs": [],
   "source": [
    "path = \"file:///./home/jovyan/data\"\n",
    "file = \"simple_3.txt\""
   ]
  },
  {
   "cell_type": "code",
   "execution_count": 7,
   "id": "8568e2fd-8a4b-4e1b-b022-540bc95a9c3a",
   "metadata": {},
   "outputs": [],
   "source": [
    "rdd = sc.textFile(os.path.join(path, file))"
   ]
  },
  {
   "cell_type": "code",
   "execution_count": 8,
   "id": "dd51c0b4-3be9-4e4b-96e6-a045d8e1122b",
   "metadata": {},
   "outputs": [
    {
     "data": {
      "text/plain": [
       "3"
      ]
     },
     "execution_count": 8,
     "metadata": {},
     "output_type": "execute_result"
    }
   ],
   "source": [
    "rdd.count()"
   ]
  },
  {
   "cell_type": "code",
   "execution_count": 10,
   "id": "2fd6dd5d-6a81-4bb8-a7ee-778a3394fc5c",
   "metadata": {},
   "outputs": [],
   "source": [
    "less_rdd = (\n",
    "    rdd\n",
    "    .map(lambda x: x.split())\n",
    ")"
   ]
  },
  {
   "cell_type": "code",
   "execution_count": 11,
   "id": "33d813b9-2616-46d0-ada7-f002e84c497a",
   "metadata": {},
   "outputs": [
    {
     "data": {
      "text/plain": [
       "['a', '1', 'first']"
      ]
     },
     "execution_count": 11,
     "metadata": {},
     "output_type": "execute_result"
    }
   ],
   "source": [
    "less_rdd.first()"
   ]
  },
  {
   "cell_type": "code",
   "execution_count": 13,
   "id": "dffbb74b-0206-4295-89ec-b53d048c0826",
   "metadata": {},
   "outputs": [
    {
     "data": {
      "text/plain": [
       "False"
      ]
     },
     "execution_count": 13,
     "metadata": {},
     "output_type": "execute_result"
    }
   ],
   "source": [
    "less_rdd.is_cached"
   ]
  },
  {
   "cell_type": "code",
   "execution_count": 14,
   "id": "25a5cf85-7df5-400b-89f9-ef89fab8ba0c",
   "metadata": {},
   "outputs": [
    {
     "data": {
      "text/plain": [
       "PythonRDD[7] at RDD at PythonRDD.scala:53"
      ]
     },
     "execution_count": 14,
     "metadata": {},
     "output_type": "execute_result"
    }
   ],
   "source": [
    "less_rdd.cache()"
   ]
  },
  {
   "cell_type": "code",
   "execution_count": 15,
   "id": "8b2bd327-2d73-4c41-8a51-d70651963815",
   "metadata": {},
   "outputs": [
    {
     "data": {
      "text/plain": [
       "True"
      ]
     },
     "execution_count": 15,
     "metadata": {},
     "output_type": "execute_result"
    }
   ],
   "source": [
    "less_rdd.is_cached"
   ]
  },
  {
   "cell_type": "code",
   "execution_count": 18,
   "id": "bad74909-eec8-4957-9ad2-a4f9f7cc13a9",
   "metadata": {},
   "outputs": [
    {
     "data": {
      "text/plain": [
       "PythonRDD[7] at RDD at PythonRDD.scala:53"
      ]
     },
     "execution_count": 18,
     "metadata": {},
     "output_type": "execute_result"
    }
   ],
   "source": [
    "less_rdd.unpersist()"
   ]
  },
  {
   "cell_type": "code",
   "execution_count": null,
   "id": "727c9f6b-cc4d-4661-930e-06994bd9680d",
   "metadata": {},
   "outputs": [],
   "source": [
    "sc.stop()"
   ]
  }
 ],
 "metadata": {
  "kernelspec": {
   "display_name": "Python 3 (ipykernel)",
   "language": "python",
   "name": "python3"
  },
  "language_info": {
   "codemirror_mode": {
    "name": "ipython",
    "version": 3
   },
   "file_extension": ".py",
   "mimetype": "text/x-python",
   "name": "python",
   "nbconvert_exporter": "python",
   "pygments_lexer": "ipython3",
   "version": "3.11.6"
  }
 },
 "nbformat": 4,
 "nbformat_minor": 5
}
