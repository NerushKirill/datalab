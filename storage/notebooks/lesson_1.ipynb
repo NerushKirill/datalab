{
 "cells": [
  {
   "cell_type": "code",
   "execution_count": 13,
   "id": "043fa3ba-b9b2-4c55-8ec0-fe4dd46363e6",
   "metadata": {},
   "outputs": [],
   "source": [
    "import os\n",
    "\n",
    "from pyspark import SparkContext"
   ]
  },
  {
   "cell_type": "code",
   "execution_count": 3,
   "id": "5c02df88-3512-4599-8fd5-088da1de2a12",
   "metadata": {},
   "outputs": [],
   "source": [
    "sc = SparkContext('local[*]')"
   ]
  },
  {
   "cell_type": "code",
   "execution_count": 4,
   "id": "99623e60-3182-4d83-9ebe-3314d021d9fa",
   "metadata": {},
   "outputs": [
    {
     "data": {
      "text/html": [
       "\n",
       "        <div>\n",
       "            <p><b>SparkContext</b></p>\n",
       "\n",
       "            <p><a href=\"http://23595dd85e23:4040\">Spark UI</a></p>\n",
       "\n",
       "            <dl>\n",
       "              <dt>Version</dt>\n",
       "                <dd><code>v3.5.0</code></dd>\n",
       "              <dt>Master</dt>\n",
       "                <dd><code>local[*]</code></dd>\n",
       "              <dt>AppName</dt>\n",
       "                <dd><code>pyspark-shell</code></dd>\n",
       "            </dl>\n",
       "        </div>\n",
       "        "
      ],
      "text/plain": [
       "<SparkContext master=local[*] appName=pyspark-shell>"
      ]
     },
     "execution_count": 4,
     "metadata": {},
     "output_type": "execute_result"
    }
   ],
   "source": [
    "sc"
   ]
  },
  {
   "cell_type": "code",
   "execution_count": 5,
   "id": "9afdff93-dc88-4cd1-96eb-96fbf438cd68",
   "metadata": {
    "scrolled": true
   },
   "outputs": [
    {
     "data": {
      "text/plain": [
       "[('spark.executor.id', 'driver'),\n",
       " ('spark.app.startTime', '1701256351563'),\n",
       " ('spark.app.name', 'pyspark-shell'),\n",
       " ('spark.driver.extraJavaOptions',\n",
       "  '-Djava.net.preferIPv6Addresses=false -XX:+IgnoreUnrecognizedVMOptions --add-opens=java.base/java.lang=ALL-UNNAMED --add-opens=java.base/java.lang.invoke=ALL-UNNAMED --add-opens=java.base/java.lang.reflect=ALL-UNNAMED --add-opens=java.base/java.io=ALL-UNNAMED --add-opens=java.base/java.net=ALL-UNNAMED --add-opens=java.base/java.nio=ALL-UNNAMED --add-opens=java.base/java.util=ALL-UNNAMED --add-opens=java.base/java.util.concurrent=ALL-UNNAMED --add-opens=java.base/java.util.concurrent.atomic=ALL-UNNAMED --add-opens=java.base/sun.nio.ch=ALL-UNNAMED --add-opens=java.base/sun.nio.cs=ALL-UNNAMED --add-opens=java.base/sun.security.action=ALL-UNNAMED --add-opens=java.base/sun.util.calendar=ALL-UNNAMED --add-opens=java.security.jgss/sun.security.krb5=ALL-UNNAMED -Djdk.reflect.useDirectMethodHandle=false'),\n",
       " ('spark.app.id', 'local-1701256352359'),\n",
       " ('spark.driver.host', '23595dd85e23'),\n",
       " ('spark.rdd.compress', 'True'),\n",
       " ('spark.serializer.objectStreamReset', '100'),\n",
       " ('spark.master', 'local[*]'),\n",
       " ('spark.submit.pyFiles', ''),\n",
       " ('spark.submit.deployMode', 'client'),\n",
       " ('spark.app.submitTime', '1701256351415'),\n",
       " ('spark.ui.showConsoleProgress', 'true'),\n",
       " ('spark.driver.port', '34539'),\n",
       " ('spark.executor.extraJavaOptions',\n",
       "  '-Djava.net.preferIPv6Addresses=false -XX:+IgnoreUnrecognizedVMOptions --add-opens=java.base/java.lang=ALL-UNNAMED --add-opens=java.base/java.lang.invoke=ALL-UNNAMED --add-opens=java.base/java.lang.reflect=ALL-UNNAMED --add-opens=java.base/java.io=ALL-UNNAMED --add-opens=java.base/java.net=ALL-UNNAMED --add-opens=java.base/java.nio=ALL-UNNAMED --add-opens=java.base/java.util=ALL-UNNAMED --add-opens=java.base/java.util.concurrent=ALL-UNNAMED --add-opens=java.base/java.util.concurrent.atomic=ALL-UNNAMED --add-opens=java.base/sun.nio.ch=ALL-UNNAMED --add-opens=java.base/sun.nio.cs=ALL-UNNAMED --add-opens=java.base/sun.security.action=ALL-UNNAMED --add-opens=java.base/sun.util.calendar=ALL-UNNAMED --add-opens=java.security.jgss/sun.security.krb5=ALL-UNNAMED -Djdk.reflect.useDirectMethodHandle=false')]"
      ]
     },
     "execution_count": 5,
     "metadata": {},
     "output_type": "execute_result"
    }
   ],
   "source": [
    "sc.getConf().getAll()"
   ]
  },
  {
   "cell_type": "code",
   "execution_count": 47,
   "id": "924c23e3-044f-45c1-b4f4-6e0ed004b487",
   "metadata": {},
   "outputs": [],
   "source": [
    "fruit_rdd = sc.parallelize(\n",
    "    [\n",
    "        \"Apple\", \n",
    "        \"Banana\", \n",
    "        \"Orange\",\n",
    "        \"Coconut\",\n",
    "        \"Cherry\",\n",
    "        \"Peach\",\n",
    "        \"Lichi\",\n",
    "        \"Mango\",\n",
    "        \"Lime\",\n",
    "        \"Rasberry\",\n",
    "    ]\n",
    ")"
   ]
  },
  {
   "cell_type": "code",
   "execution_count": 48,
   "id": "44457f8a-c47e-4af6-8eb8-32ba08f2179a",
   "metadata": {},
   "outputs": [
    {
     "data": {
      "text/plain": [
       "ParallelCollectionRDD[19] at readRDDFromFile at PythonRDD.scala:289"
      ]
     },
     "execution_count": 48,
     "metadata": {},
     "output_type": "execute_result"
    }
   ],
   "source": [
    "fruit_rdd"
   ]
  },
  {
   "cell_type": "code",
   "execution_count": 49,
   "id": "4b5f689a-08f3-456d-9571-9f0f402556b9",
   "metadata": {},
   "outputs": [
    {
     "data": {
      "text/plain": [
       "['Apple',\n",
       " 'Banana',\n",
       " 'Orange',\n",
       " 'Coconut',\n",
       " 'Cherry',\n",
       " 'Peach',\n",
       " 'Lichi',\n",
       " 'Mango',\n",
       " 'Lime',\n",
       " 'Rasberry']"
      ]
     },
     "execution_count": 49,
     "metadata": {},
     "output_type": "execute_result"
    }
   ],
   "source": [
    "fruit_rdd.collect()"
   ]
  },
  {
   "cell_type": "code",
   "execution_count": 50,
   "id": "b70fd32b-86b0-4fc9-b6a1-1feebae39a51",
   "metadata": {},
   "outputs": [
    {
     "data": {
      "text/plain": [
       "8"
      ]
     },
     "execution_count": 50,
     "metadata": {},
     "output_type": "execute_result"
    }
   ],
   "source": [
    "fruit_rdd.getNumPartitions()"
   ]
  },
  {
   "cell_type": "code",
   "execution_count": 51,
   "id": "946183c4-1dd2-4bd1-96cd-19f218b90dcd",
   "metadata": {},
   "outputs": [
    {
     "data": {
      "text/plain": [
       "[['Apple'],\n",
       " ['Banana'],\n",
       " ['Orange'],\n",
       " ['Coconut', 'Cherry'],\n",
       " ['Peach'],\n",
       " ['Lichi'],\n",
       " ['Mango'],\n",
       " ['Lime', 'Rasberry']]"
      ]
     },
     "execution_count": 51,
     "metadata": {},
     "output_type": "execute_result"
    }
   ],
   "source": [
    "fruit_rdd.glom().collect()"
   ]
  },
  {
   "cell_type": "code",
   "execution_count": 53,
   "id": "3e3e0d31-2c00-41f8-bbd0-5610bc87ccb5",
   "metadata": {},
   "outputs": [
    {
     "data": {
      "text/plain": [
       "10"
      ]
     },
     "execution_count": 53,
     "metadata": {},
     "output_type": "execute_result"
    }
   ],
   "source": [
    "fruit_rdd.count()"
   ]
  },
  {
   "cell_type": "code",
   "execution_count": 56,
   "id": "22d9bf2d-2b8e-429d-b8bf-2cc1cd074efb",
   "metadata": {},
   "outputs": [
    {
     "data": {
      "text/plain": [
       "['Apple', 'Banana']"
      ]
     },
     "execution_count": 56,
     "metadata": {},
     "output_type": "execute_result"
    }
   ],
   "source": [
    "fruit_rdd.take(2)"
   ]
  },
  {
   "cell_type": "markdown",
   "id": "8ced1665-66bc-4095-9dec-f1de4797f60d",
   "metadata": {},
   "source": [
    "### read from file"
   ]
  },
  {
   "cell_type": "code",
   "execution_count": 57,
   "id": "0f4d12ec-bfa8-45c0-9da4-1b343b1e1728",
   "metadata": {},
   "outputs": [],
   "source": [
    "path = \"file:///./home/jovyan/data\"\n",
    "file = \"data_example.txt\""
   ]
  },
  {
   "cell_type": "code",
   "execution_count": 58,
   "id": "8568e2fd-8a4b-4e1b-b022-540bc95a9c3a",
   "metadata": {},
   "outputs": [],
   "source": [
    "text = sc.textFile(os.path.join(path, file))"
   ]
  },
  {
   "cell_type": "code",
   "execution_count": 59,
   "id": "dd51c0b4-3be9-4e4b-96e6-a045d8e1122b",
   "metadata": {},
   "outputs": [
    {
     "data": {
      "text/plain": [
       "20"
      ]
     },
     "execution_count": 59,
     "metadata": {},
     "output_type": "execute_result"
    }
   ],
   "source": [
    "text.count()"
   ]
  },
  {
   "cell_type": "code",
   "execution_count": 60,
   "id": "727c9f6b-cc4d-4661-930e-06994bd9680d",
   "metadata": {},
   "outputs": [],
   "source": [
    "sc.stop()"
   ]
  }
 ],
 "metadata": {
  "kernelspec": {
   "display_name": "Python 3 (ipykernel)",
   "language": "python",
   "name": "python3"
  },
  "language_info": {
   "codemirror_mode": {
    "name": "ipython",
    "version": 3
   },
   "file_extension": ".py",
   "mimetype": "text/x-python",
   "name": "python",
   "nbconvert_exporter": "python",
   "pygments_lexer": "ipython3",
   "version": "3.11.6"
  }
 },
 "nbformat": 4,
 "nbformat_minor": 5
}
