{
 "cells": [
  {
   "cell_type": "code",
   "execution_count": 1,
   "id": "043fa3ba-b9b2-4c55-8ec0-fe4dd46363e6",
   "metadata": {},
   "outputs": [],
   "source": [
    "import os\n",
    "\n",
    "from pyspark import SparkContext"
   ]
  },
  {
   "cell_type": "code",
   "execution_count": 2,
   "id": "5c02df88-3512-4599-8fd5-088da1de2a12",
   "metadata": {},
   "outputs": [],
   "source": [
    "sc = SparkContext('local[*]')"
   ]
  },
  {
   "cell_type": "code",
   "execution_count": 3,
   "id": "99623e60-3182-4d83-9ebe-3314d021d9fa",
   "metadata": {},
   "outputs": [
    {
     "data": {
      "text/html": [
       "\n",
       "        <div>\n",
       "            <p><b>SparkContext</b></p>\n",
       "\n",
       "            <p><a href=\"http://23595dd85e23:4040\">Spark UI</a></p>\n",
       "\n",
       "            <dl>\n",
       "              <dt>Version</dt>\n",
       "                <dd><code>v3.5.0</code></dd>\n",
       "              <dt>Master</dt>\n",
       "                <dd><code>local[*]</code></dd>\n",
       "              <dt>AppName</dt>\n",
       "                <dd><code>pyspark-shell</code></dd>\n",
       "            </dl>\n",
       "        </div>\n",
       "        "
      ],
      "text/plain": [
       "<SparkContext master=local[*] appName=pyspark-shell>"
      ]
     },
     "execution_count": 3,
     "metadata": {},
     "output_type": "execute_result"
    }
   ],
   "source": [
    "sc"
   ]
  },
  {
   "cell_type": "code",
   "execution_count": 12,
   "id": "0f4d12ec-bfa8-45c0-9da4-1b343b1e1728",
   "metadata": {},
   "outputs": [],
   "source": [
    "path = \"file:///./home/jovyan/data\"\n",
    "file = \"data_example.txt\""
   ]
  },
  {
   "cell_type": "code",
   "execution_count": 13,
   "id": "8568e2fd-8a4b-4e1b-b022-540bc95a9c3a",
   "metadata": {},
   "outputs": [],
   "source": [
    "df = sc.textFile(os.path.join(path, file))"
   ]
  },
  {
   "cell_type": "code",
   "execution_count": 14,
   "id": "dd51c0b4-3be9-4e4b-96e6-a045d8e1122b",
   "metadata": {},
   "outputs": [
    {
     "data": {
      "text/plain": [
       "20"
      ]
     },
     "execution_count": 14,
     "metadata": {},
     "output_type": "execute_result"
    }
   ],
   "source": [
    "df.count()"
   ]
  },
  {
   "cell_type": "code",
   "execution_count": 32,
   "id": "d3c16043-c9b4-44fe-aad3-1a89c9e7ec6b",
   "metadata": {},
   "outputs": [
    {
     "data": {
      "text/plain": [
       "['data1, data2, data3',\n",
       " 'data1, data2, data3',\n",
       " 'data1, data2, data3',\n",
       " 'data1, data2, data3',\n",
       " 'data1, data2, data3',\n",
       " 'data1, data2, data3',\n",
       " 'data1, data2, data3',\n",
       " 'data1, data2, data3',\n",
       " 'data1, data2, data3',\n",
       " 'data1, data2, data3',\n",
       " 'data1, data2, data3, data4, data5, data6']"
      ]
     },
     "execution_count": 32,
     "metadata": {},
     "output_type": "execute_result"
    }
   ],
   "source": [
    "df.take(11)"
   ]
  },
  {
   "cell_type": "code",
   "execution_count": 27,
   "id": "439ce32e-c8bc-43a2-b5de-f010c5a8a7d1",
   "metadata": {},
   "outputs": [
    {
     "data": {
      "text/plain": [
       "'data1, data2, data3'"
      ]
     },
     "execution_count": 27,
     "metadata": {},
     "output_type": "execute_result"
    }
   ],
   "source": [
    "df.first()[:100]  # first 10 symbols from file in first line"
   ]
  },
  {
   "cell_type": "code",
   "execution_count": 41,
   "id": "b16e88db-314c-4978-bad5-5c6e5541354b",
   "metadata": {},
   "outputs": [
    {
     "data": {
      "text/plain": [
       "[['DATA1, DATA2, DATA3'],\n",
       " ['DATA1, DATA2, DATA3'],\n",
       " ['DATA1, DATA2, DATA3'],\n",
       " ['DATA1, DATA2, DATA3'],\n",
       " ['DATA1, DATA2, DATA3'],\n",
       " ['DATA1, DATA2, DATA3'],\n",
       " ['DATA1, DATA2, DATA3'],\n",
       " ['DATA1, DATA2, DATA3'],\n",
       " ['DATA1, DATA2, DATA3'],\n",
       " ['DATA1, DATA2, DATA3'],\n",
       " ['DATA1, DATA2, DATA3, DATA4, DATA5, DATA6']]"
      ]
     },
     "execution_count": 41,
     "metadata": {},
     "output_type": "execute_result"
    }
   ],
   "source": [
    "df\\\n",
    "    .map(lambda x: x.upper())\\\n",
    "    .map(lambda x: x.split(\"\\n\"))\\\n",
    "    .take(11)"
   ]
  },
  {
   "cell_type": "code",
   "execution_count": 49,
   "id": "4983d555-070d-477d-9972-8e1102946919",
   "metadata": {},
   "outputs": [],
   "source": [
    "out = (\n",
    "    df\n",
    "    .map(lambda x: x.upper())\n",
    "    .flatMap(lambda x: x.split(\"\\n\"))\n",
    ")"
   ]
  },
  {
   "cell_type": "code",
   "execution_count": 51,
   "id": "5f539ba0-6a04-46f6-8270-dfe74abd9234",
   "metadata": {},
   "outputs": [
    {
     "data": {
      "text/plain": [
       "['DATA1, DATA2, DATA3',\n",
       " 'DATA1, DATA2, DATA3',\n",
       " 'DATA1, DATA2, DATA3',\n",
       " 'DATA1, DATA2, DATA3',\n",
       " 'DATA1, DATA2, DATA3',\n",
       " 'DATA1, DATA2, DATA3',\n",
       " 'DATA1, DATA2, DATA3',\n",
       " 'DATA1, DATA2, DATA3',\n",
       " 'DATA1, DATA2, DATA3',\n",
       " 'DATA1, DATA2, DATA3',\n",
       " 'DATA1, DATA2, DATA3, DATA4, DATA5, DATA6']"
      ]
     },
     "execution_count": 51,
     "metadata": {},
     "output_type": "execute_result"
    }
   ],
   "source": [
    "out.take(11)"
   ]
  },
  {
   "cell_type": "code",
   "execution_count": 54,
   "id": "9dd48460-6452-446d-be5c-ed8dd2ab921c",
   "metadata": {},
   "outputs": [],
   "source": [
    "count_words = (\n",
    "    out\n",
    "    .map(lambda x: (x, 1))\n",
    "    .reduceByKey(lambda x, y: x + y)\n",
    ")"
   ]
  },
  {
   "cell_type": "code",
   "execution_count": 59,
   "id": "cb273ece-f52b-4644-9e5d-0a673915664f",
   "metadata": {},
   "outputs": [
    {
     "data": {
      "text/plain": [
       "[('DATA1, DATA2, DATA3', 10), ('DATA1, DATA2, DATA3, DATA4, DATA5, DATA6', 10)]"
      ]
     },
     "execution_count": 59,
     "metadata": {},
     "output_type": "execute_result"
    }
   ],
   "source": [
    "count_words.take(10)"
   ]
  },
  {
   "cell_type": "code",
   "execution_count": 60,
   "id": "c3e819cd-c8d2-4ea7-8c5a-678f81527f2b",
   "metadata": {},
   "outputs": [
    {
     "data": {
      "text/plain": [
       "[('DATA1, DATA2, DATA3', 10), ('DATA1, DATA2, DATA3, DATA4, DATA5, DATA6', 10)]"
      ]
     },
     "execution_count": 60,
     "metadata": {},
     "output_type": "execute_result"
    }
   ],
   "source": [
    "count_words.takeOrdered(10, key=lambda x: -x[1])"
   ]
  },
  {
   "cell_type": "code",
   "execution_count": 70,
   "id": "799f1538-f917-4fd3-8191-ee7c76620a5d",
   "metadata": {},
   "outputs": [
    {
     "data": {
      "text/plain": [
       "[('DATA1, DATA2, DATA3, DATA4, DATA5, DATA6', 10)]"
      ]
     },
     "execution_count": 70,
     "metadata": {},
     "output_type": "execute_result"
    }
   ],
   "source": [
    "count_words.filter(lambda x: len(x[0]) > 19).takeOrdered(10, key=lambda x: -x[1])"
   ]
  },
  {
   "cell_type": "code",
   "execution_count": null,
   "id": "782def19-2550-4669-b1ce-d751c4efec20",
   "metadata": {},
   "outputs": [],
   "source": [
    "(\n",
    "sc\n",
    "    .parallelize(x)\n",
    "    .map(y)\n",
    "    .reduceByKey()\n",
    "    .filter(z)\n",
    "    .mapPartition(b)\n",
    "    .repartition(b)\n",
    "    .collect()\n",
    ")   "
   ]
  },
  {
   "cell_type": "code",
   "execution_count": 72,
   "id": "727c9f6b-cc4d-4661-930e-06994bd9680d",
   "metadata": {},
   "outputs": [],
   "source": [
    "sc.stop()"
   ]
  },
  {
   "cell_type": "code",
   "execution_count": null,
   "id": "16d9d25b-96e5-4b53-95ad-117b7c44b9fd",
   "metadata": {},
   "outputs": [],
   "source": []
  }
 ],
 "metadata": {
  "kernelspec": {
   "display_name": "Python 3 (ipykernel)",
   "language": "python",
   "name": "python3"
  },
  "language_info": {
   "codemirror_mode": {
    "name": "ipython",
    "version": 3
   },
   "file_extension": ".py",
   "mimetype": "text/x-python",
   "name": "python",
   "nbconvert_exporter": "python",
   "pygments_lexer": "ipython3",
   "version": "3.11.6"
  }
 },
 "nbformat": 4,
 "nbformat_minor": 5
}
